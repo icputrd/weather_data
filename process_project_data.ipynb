{
 "cells": [
  {
   "cell_type": "code",
   "execution_count": 1,
   "id": "9d358c15",
   "metadata": {},
   "outputs": [],
   "source": [
    "import pandas as pd\n",
    "import os\n",
    "import matplotlib.pyplot as plt\n",
    "\n",
    "pd.set_option(\"display.max_rows\", None, \"display.max_columns\", None)\n",
    "%matplotlib inline"
   ]
  },
  {
   "cell_type": "markdown",
   "metadata": {},
   "source": [
    "The data processed here came from previous projects at UTK/FAC recorded using Tinytag data loggers.\n",
    "\n",
    "Key takeaways:\n",
    "* Time range covered by the data: part of 2014, part of 2015, 2016, part of 2017, part of 2019, 2020, and part of 2021\n",
    "* Weather features included in data: temperature (celcius) and relative humidity (%)\n",
    "* The data was found to contain several errors (e.g., negative temp values in the summer and a relative humidity of 0% in the summer). See data analysis section for details. Given this, the data will be compared with the local climatological data (LCD) in a seperate notebook (project_lcd_comparison.ipynb).\n",
    "   * Examples in raw data see file \"Tox016 ADH Calculations Completed.xlsx\""
   ]
  },
  {
   "cell_type": "markdown",
   "id": "ed590556",
   "metadata": {},
   "source": [
    "# PHP project"
   ]
  },
  {
   "cell_type": "code",
   "execution_count": 4,
   "id": "1caa73ac",
   "metadata": {},
   "outputs": [],
   "source": [
    "temp_hum_a = pd.read_excel('data/PHR/Temp and Humidity A Trial 1.xlsx',\n",
    "                          header=None, skiprows=5, usecols=[1,2,3])\n",
    "temp_hum_a.columns = ['date_time', 'temp_C', 'hum_RH']\n",
    "temp_hum_b = pd.read_excel('data/PHR/Temp and Humidity B Trial 1.xlsx',\n",
    "                          header=None, skiprows=5, usecols=[1,2,3])\n",
    "temp_hum_b.columns = ['date_time', 'temp_C', 'hum_RH']\n",
    "temp_hum_c = pd.read_excel('data/PHR/Temp and Humidity C Trial 1.xlsx',\n",
    "                          header=None, skiprows=5, usecols=[1,2,3])\n",
    "temp_hum_c.columns = ['date_time', 'temp_C', 'hum_RH']"
   ]
  },
  {
   "cell_type": "code",
   "execution_count": 5,
   "id": "b86fb693",
   "metadata": {},
   "outputs": [
    {
     "data": {
      "text/html": [
       "<div>\n",
       "<style scoped>\n",
       "    .dataframe tbody tr th:only-of-type {\n",
       "        vertical-align: middle;\n",
       "    }\n",
       "\n",
       "    .dataframe tbody tr th {\n",
       "        vertical-align: top;\n",
       "    }\n",
       "\n",
       "    .dataframe thead th {\n",
       "        text-align: right;\n",
       "    }\n",
       "</style>\n",
       "<table border=\"1\" class=\"dataframe\">\n",
       "  <thead>\n",
       "    <tr style=\"text-align: right;\">\n",
       "      <th></th>\n",
       "      <th>date_time</th>\n",
       "      <th>temp_C</th>\n",
       "      <th>hum_RH</th>\n",
       "    </tr>\n",
       "  </thead>\n",
       "  <tbody>\n",
       "    <tr>\n",
       "      <th>0</th>\n",
       "      <td>2014-03-14 17:31:00</td>\n",
       "      <td>17.16219</td>\n",
       "      <td>23.475</td>\n",
       "    </tr>\n",
       "    <tr>\n",
       "      <th>1</th>\n",
       "      <td>2014-03-14 18:31:00</td>\n",
       "      <td>16.50121</td>\n",
       "      <td>22.769</td>\n",
       "    </tr>\n",
       "    <tr>\n",
       "      <th>2</th>\n",
       "      <td>2014-03-14 19:31:00</td>\n",
       "      <td>15.84665</td>\n",
       "      <td>25.357</td>\n",
       "    </tr>\n",
       "    <tr>\n",
       "      <th>3</th>\n",
       "      <td>2014-03-14 20:31:00</td>\n",
       "      <td>15.60761</td>\n",
       "      <td>25.122</td>\n",
       "    </tr>\n",
       "    <tr>\n",
       "      <th>4</th>\n",
       "      <td>2014-03-14 21:31:00</td>\n",
       "      <td>15.47507</td>\n",
       "      <td>25.827</td>\n",
       "    </tr>\n",
       "  </tbody>\n",
       "</table>\n",
       "</div>"
      ],
      "text/plain": [
       "            date_time    temp_C  hum_RH\n",
       "0 2014-03-14 17:31:00  17.16219  23.475\n",
       "1 2014-03-14 18:31:00  16.50121  22.769\n",
       "2 2014-03-14 19:31:00  15.84665  25.357\n",
       "3 2014-03-14 20:31:00  15.60761  25.122\n",
       "4 2014-03-14 21:31:00  15.47507  25.827"
      ]
     },
     "metadata": {},
     "output_type": "display_data"
    },
    {
     "name": "stdout",
     "output_type": "stream",
     "text": [
      "(2161, 3)\n"
     ]
    },
    {
     "data": {
      "text/html": [
       "<div>\n",
       "<style scoped>\n",
       "    .dataframe tbody tr th:only-of-type {\n",
       "        vertical-align: middle;\n",
       "    }\n",
       "\n",
       "    .dataframe tbody tr th {\n",
       "        vertical-align: top;\n",
       "    }\n",
       "\n",
       "    .dataframe thead th {\n",
       "        text-align: right;\n",
       "    }\n",
       "</style>\n",
       "<table border=\"1\" class=\"dataframe\">\n",
       "  <thead>\n",
       "    <tr style=\"text-align: right;\">\n",
       "      <th></th>\n",
       "      <th>date_time</th>\n",
       "      <th>temp_C</th>\n",
       "      <th>hum_RH</th>\n",
       "    </tr>\n",
       "  </thead>\n",
       "  <tbody>\n",
       "    <tr>\n",
       "      <th>0</th>\n",
       "      <td>2014-03-14 17:32:00</td>\n",
       "      <td>17.11048</td>\n",
       "      <td>24.388</td>\n",
       "    </tr>\n",
       "    <tr>\n",
       "      <th>1</th>\n",
       "      <td>2014-03-14 18:32:00</td>\n",
       "      <td>16.04527</td>\n",
       "      <td>26.270</td>\n",
       "    </tr>\n",
       "    <tr>\n",
       "      <th>2</th>\n",
       "      <td>2014-03-14 19:32:00</td>\n",
       "      <td>15.04107</td>\n",
       "      <td>28.387</td>\n",
       "    </tr>\n",
       "    <tr>\n",
       "      <th>3</th>\n",
       "      <td>2014-03-14 20:32:00</td>\n",
       "      <td>14.35932</td>\n",
       "      <td>30.033</td>\n",
       "    </tr>\n",
       "    <tr>\n",
       "      <th>4</th>\n",
       "      <td>2014-03-14 21:32:00</td>\n",
       "      <td>14.17560</td>\n",
       "      <td>29.798</td>\n",
       "    </tr>\n",
       "  </tbody>\n",
       "</table>\n",
       "</div>"
      ],
      "text/plain": [
       "            date_time    temp_C  hum_RH\n",
       "0 2014-03-14 17:32:00  17.11048  24.388\n",
       "1 2014-03-14 18:32:00  16.04527  26.270\n",
       "2 2014-03-14 19:32:00  15.04107  28.387\n",
       "3 2014-03-14 20:32:00  14.35932  30.033\n",
       "4 2014-03-14 21:32:00  14.17560  29.798"
      ]
     },
     "metadata": {},
     "output_type": "display_data"
    },
    {
     "name": "stdout",
     "output_type": "stream",
     "text": [
      "(2161, 3)\n"
     ]
    },
    {
     "data": {
      "text/html": [
       "<div>\n",
       "<style scoped>\n",
       "    .dataframe tbody tr th:only-of-type {\n",
       "        vertical-align: middle;\n",
       "    }\n",
       "\n",
       "    .dataframe tbody tr th {\n",
       "        vertical-align: top;\n",
       "    }\n",
       "\n",
       "    .dataframe thead th {\n",
       "        text-align: right;\n",
       "    }\n",
       "</style>\n",
       "<table border=\"1\" class=\"dataframe\">\n",
       "  <thead>\n",
       "    <tr style=\"text-align: right;\">\n",
       "      <th></th>\n",
       "      <th>date_time</th>\n",
       "      <th>temp_C</th>\n",
       "      <th>hum_RH</th>\n",
       "    </tr>\n",
       "  </thead>\n",
       "  <tbody>\n",
       "    <tr>\n",
       "      <th>0</th>\n",
       "      <td>2014-03-14 17:33:00</td>\n",
       "      <td>16.85333</td>\n",
       "      <td>23.761</td>\n",
       "    </tr>\n",
       "    <tr>\n",
       "      <th>1</th>\n",
       "      <td>2014-03-14 18:33:00</td>\n",
       "      <td>15.84090</td>\n",
       "      <td>25.808</td>\n",
       "    </tr>\n",
       "    <tr>\n",
       "      <th>2</th>\n",
       "      <td>2014-03-14 19:33:00</td>\n",
       "      <td>14.92707</td>\n",
       "      <td>27.854</td>\n",
       "    </tr>\n",
       "    <tr>\n",
       "      <th>3</th>\n",
       "      <td>2014-03-14 20:33:00</td>\n",
       "      <td>14.37089</td>\n",
       "      <td>28.309</td>\n",
       "    </tr>\n",
       "    <tr>\n",
       "      <th>4</th>\n",
       "      <td>2014-03-14 21:33:00</td>\n",
       "      <td>14.21901</td>\n",
       "      <td>29.674</td>\n",
       "    </tr>\n",
       "  </tbody>\n",
       "</table>\n",
       "</div>"
      ],
      "text/plain": [
       "            date_time    temp_C  hum_RH\n",
       "0 2014-03-14 17:33:00  16.85333  23.761\n",
       "1 2014-03-14 18:33:00  15.84090  25.808\n",
       "2 2014-03-14 19:33:00  14.92707  27.854\n",
       "3 2014-03-14 20:33:00  14.37089  28.309\n",
       "4 2014-03-14 21:33:00  14.21901  29.674"
      ]
     },
     "metadata": {},
     "output_type": "display_data"
    },
    {
     "name": "stdout",
     "output_type": "stream",
     "text": [
      "(2161, 3)\n"
     ]
    }
   ],
   "source": [
    "display(temp_hum_a.head())\n",
    "print(temp_hum_a.shape)\n",
    "display(temp_hum_b.head())\n",
    "print(temp_hum_b.shape)\n",
    "display(temp_hum_c.head())\n",
    "print(temp_hum_c.shape)"
   ]
  },
  {
   "cell_type": "code",
   "execution_count": 105,
   "id": "1c9f6c34",
   "metadata": {},
   "outputs": [
    {
     "name": "stdout",
     "output_type": "stream",
     "text": [
      "<class 'pandas.core.frame.DataFrame'>\n",
      "RangeIndex: 2161 entries, 0 to 2160\n",
      "Data columns (total 3 columns):\n",
      " #   Column     Non-Null Count  Dtype         \n",
      "---  ------     --------------  -----         \n",
      " 0   date_time  2161 non-null   datetime64[ns]\n",
      " 1   temp_C     2161 non-null   float64       \n",
      " 2   hum_RH     2161 non-null   float64       \n",
      "dtypes: datetime64[ns](1), float64(2)\n",
      "memory usage: 50.8 KB\n",
      "None\n",
      "<class 'pandas.core.frame.DataFrame'>\n",
      "RangeIndex: 2161 entries, 0 to 2160\n",
      "Data columns (total 3 columns):\n",
      " #   Column     Non-Null Count  Dtype         \n",
      "---  ------     --------------  -----         \n",
      " 0   date_time  2161 non-null   datetime64[ns]\n",
      " 1   temp_C     2161 non-null   float64       \n",
      " 2   hum_RH     2161 non-null   float64       \n",
      "dtypes: datetime64[ns](1), float64(2)\n",
      "memory usage: 50.8 KB\n",
      "None\n",
      "<class 'pandas.core.frame.DataFrame'>\n",
      "RangeIndex: 2161 entries, 0 to 2160\n",
      "Data columns (total 3 columns):\n",
      " #   Column     Non-Null Count  Dtype         \n",
      "---  ------     --------------  -----         \n",
      " 0   date_time  2161 non-null   datetime64[ns]\n",
      " 1   temp_C     2161 non-null   float64       \n",
      " 2   hum_RH     2161 non-null   float64       \n",
      "dtypes: datetime64[ns](1), float64(2)\n",
      "memory usage: 50.8 KB\n",
      "None\n"
     ]
    }
   ],
   "source": [
    "print(temp_hum_a.info())\n",
    "print(temp_hum_b.info())\n",
    "print(temp_hum_c.info())"
   ]
  },
  {
   "cell_type": "code",
   "execution_count": 106,
   "id": "a1de607c",
   "metadata": {},
   "outputs": [
    {
     "name": "stdout",
     "output_type": "stream",
     "text": [
      "            temp_C       hum_RH\n",
      "count  2161.000000  2161.000000\n",
      "mean     17.284567    69.684272\n",
      "std       7.300777    24.320896\n",
      "min      -4.514270     0.000000\n",
      "25%      12.121350    52.088000\n",
      "50%      18.086740    72.133000\n",
      "75%      22.387620    92.354000\n",
      "max      31.725210   100.000000\n",
      "            temp_C       hum_RH\n",
      "count  2161.000000  2161.000000\n",
      "mean     17.473219    70.977629\n",
      "std       7.614328    24.163922\n",
      "min      -3.668630    10.080000\n",
      "25%      12.039490    53.012000\n",
      "50%      18.062340    74.118000\n",
      "75%      22.799590    93.716000\n",
      "max      37.755950   100.000000\n",
      "            temp_C       hum_RH\n",
      "count  2161.000000  2161.000000\n",
      "mean     17.519493    69.749472\n",
      "std       7.559473    24.561427\n",
      "min      -3.618280     9.862000\n",
      "25%      12.001470    50.536000\n",
      "50%      18.030770    72.953000\n",
      "75%      22.624610    93.188000\n",
      "max      37.521760   100.000000\n"
     ]
    }
   ],
   "source": [
    "print(temp_hum_a.describe())\n",
    "print(temp_hum_b.describe())\n",
    "print(temp_hum_c.describe())"
   ]
  },
  {
   "cell_type": "code",
   "execution_count": 144,
   "id": "1f2f2fc4",
   "metadata": {},
   "outputs": [
    {
     "data": {
      "image/png": "[encoded data removed]",
      "text/plain": [
       "<Figure size 640x480 with 1 Axes>"
      ]
     },
     "metadata": {},
     "output_type": "display_data"
    }
   ],
   "source": [
    "# temp plot\n",
    "df = pd.DataFrame({'a': temp_hum_a['temp_C'], 'b': temp_hum_b['temp_C'], 'c': temp_hum_c['temp_C']})\n",
    "ax = df.plot.kde()"
   ]
  },
  {
   "cell_type": "code",
   "execution_count": 145,
   "id": "c99aa6f7",
   "metadata": {},
   "outputs": [
    {
     "data": {
      "image/png": "[encoded data removed]",
      "text/plain": [
       "<Figure size 640x480 with 1 Axes>"
      ]
     },
     "metadata": {},
     "output_type": "display_data"
    }
   ],
   "source": [
    "# humidity plot\n",
    "df = pd.DataFrame({'a': temp_hum_a['hum_RH'], 'b': temp_hum_b['hum_RH'], 'c': temp_hum_c['hum_RH']})\n",
    "ax = df.plot.kde()"
   ]
  },
  {
   "cell_type": "code",
   "execution_count": 109,
   "id": "7617ad33",
   "metadata": {},
   "outputs": [
    {
     "data": {
      "text/html": [
       "<div>\n",
       "<style scoped>\n",
       "    .dataframe tbody tr th:only-of-type {\n",
       "        vertical-align: middle;\n",
       "    }\n",
       "\n",
       "    .dataframe tbody tr th {\n",
       "        vertical-align: top;\n",
       "    }\n",
       "\n",
       "    .dataframe thead th {\n",
       "        text-align: right;\n",
       "    }\n",
       "</style>\n",
       "<table border=\"1\" class=\"dataframe\">\n",
       "  <thead>\n",
       "    <tr style=\"text-align: right;\">\n",
       "      <th></th>\n",
       "      <th>date_time</th>\n",
       "      <th>temp_C</th>\n",
       "      <th>hum_RH</th>\n",
       "    </tr>\n",
       "  </thead>\n",
       "  <tbody>\n",
       "    <tr>\n",
       "      <th>0</th>\n",
       "      <td>2014-03-14 17:31:00</td>\n",
       "      <td>17.16219</td>\n",
       "      <td>23.475</td>\n",
       "    </tr>\n",
       "    <tr>\n",
       "      <th>1</th>\n",
       "      <td>2014-03-14 18:31:00</td>\n",
       "      <td>16.50121</td>\n",
       "      <td>22.769</td>\n",
       "    </tr>\n",
       "    <tr>\n",
       "      <th>2</th>\n",
       "      <td>2014-03-14 19:31:00</td>\n",
       "      <td>15.84665</td>\n",
       "      <td>25.357</td>\n",
       "    </tr>\n",
       "    <tr>\n",
       "      <th>3</th>\n",
       "      <td>2014-03-14 20:31:00</td>\n",
       "      <td>15.60761</td>\n",
       "      <td>25.122</td>\n",
       "    </tr>\n",
       "    <tr>\n",
       "      <th>4</th>\n",
       "      <td>2014-03-14 21:31:00</td>\n",
       "      <td>15.47507</td>\n",
       "      <td>25.827</td>\n",
       "    </tr>\n",
       "  </tbody>\n",
       "</table>\n",
       "</div>"
      ],
      "text/plain": [
       "            date_time    temp_C  hum_RH\n",
       "0 2014-03-14 17:31:00  17.16219  23.475\n",
       "1 2014-03-14 18:31:00  16.50121  22.769\n",
       "2 2014-03-14 19:31:00  15.84665  25.357\n",
       "3 2014-03-14 20:31:00  15.60761  25.122\n",
       "4 2014-03-14 21:31:00  15.47507  25.827"
      ]
     },
     "metadata": {},
     "output_type": "display_data"
    },
    {
     "data": {
      "text/html": [
       "<div>\n",
       "<style scoped>\n",
       "    .dataframe tbody tr th:only-of-type {\n",
       "        vertical-align: middle;\n",
       "    }\n",
       "\n",
       "    .dataframe tbody tr th {\n",
       "        vertical-align: top;\n",
       "    }\n",
       "\n",
       "    .dataframe thead th {\n",
       "        text-align: right;\n",
       "    }\n",
       "</style>\n",
       "<table border=\"1\" class=\"dataframe\">\n",
       "  <thead>\n",
       "    <tr style=\"text-align: right;\">\n",
       "      <th></th>\n",
       "      <th>date_time</th>\n",
       "      <th>temp_C</th>\n",
       "      <th>hum_RH</th>\n",
       "    </tr>\n",
       "  </thead>\n",
       "  <tbody>\n",
       "    <tr>\n",
       "      <th>0</th>\n",
       "      <td>2014-03-14 17:32:00</td>\n",
       "      <td>17.11048</td>\n",
       "      <td>24.388</td>\n",
       "    </tr>\n",
       "    <tr>\n",
       "      <th>1</th>\n",
       "      <td>2014-03-14 18:32:00</td>\n",
       "      <td>16.04527</td>\n",
       "      <td>26.270</td>\n",
       "    </tr>\n",
       "    <tr>\n",
       "      <th>2</th>\n",
       "      <td>2014-03-14 19:32:00</td>\n",
       "      <td>15.04107</td>\n",
       "      <td>28.387</td>\n",
       "    </tr>\n",
       "    <tr>\n",
       "      <th>3</th>\n",
       "      <td>2014-03-14 20:32:00</td>\n",
       "      <td>14.35932</td>\n",
       "      <td>30.033</td>\n",
       "    </tr>\n",
       "    <tr>\n",
       "      <th>4</th>\n",
       "      <td>2014-03-14 21:32:00</td>\n",
       "      <td>14.17560</td>\n",
       "      <td>29.798</td>\n",
       "    </tr>\n",
       "  </tbody>\n",
       "</table>\n",
       "</div>"
      ],
      "text/plain": [
       "            date_time    temp_C  hum_RH\n",
       "0 2014-03-14 17:32:00  17.11048  24.388\n",
       "1 2014-03-14 18:32:00  16.04527  26.270\n",
       "2 2014-03-14 19:32:00  15.04107  28.387\n",
       "3 2014-03-14 20:32:00  14.35932  30.033\n",
       "4 2014-03-14 21:32:00  14.17560  29.798"
      ]
     },
     "metadata": {},
     "output_type": "display_data"
    },
    {
     "data": {
      "text/html": [
       "<div>\n",
       "<style scoped>\n",
       "    .dataframe tbody tr th:only-of-type {\n",
       "        vertical-align: middle;\n",
       "    }\n",
       "\n",
       "    .dataframe tbody tr th {\n",
       "        vertical-align: top;\n",
       "    }\n",
       "\n",
       "    .dataframe thead th {\n",
       "        text-align: right;\n",
       "    }\n",
       "</style>\n",
       "<table border=\"1\" class=\"dataframe\">\n",
       "  <thead>\n",
       "    <tr style=\"text-align: right;\">\n",
       "      <th></th>\n",
       "      <th>date_time</th>\n",
       "      <th>temp_C</th>\n",
       "      <th>hum_RH</th>\n",
       "    </tr>\n",
       "  </thead>\n",
       "  <tbody>\n",
       "    <tr>\n",
       "      <th>0</th>\n",
       "      <td>2014-03-14 17:33:00</td>\n",
       "      <td>16.85333</td>\n",
       "      <td>23.761</td>\n",
       "    </tr>\n",
       "    <tr>\n",
       "      <th>1</th>\n",
       "      <td>2014-03-14 18:33:00</td>\n",
       "      <td>15.84090</td>\n",
       "      <td>25.808</td>\n",
       "    </tr>\n",
       "    <tr>\n",
       "      <th>2</th>\n",
       "      <td>2014-03-14 19:33:00</td>\n",
       "      <td>14.92707</td>\n",
       "      <td>27.854</td>\n",
       "    </tr>\n",
       "    <tr>\n",
       "      <th>3</th>\n",
       "      <td>2014-03-14 20:33:00</td>\n",
       "      <td>14.37089</td>\n",
       "      <td>28.309</td>\n",
       "    </tr>\n",
       "    <tr>\n",
       "      <th>4</th>\n",
       "      <td>2014-03-14 21:33:00</td>\n",
       "      <td>14.21901</td>\n",
       "      <td>29.674</td>\n",
       "    </tr>\n",
       "  </tbody>\n",
       "</table>\n",
       "</div>"
      ],
      "text/plain": [
       "            date_time    temp_C  hum_RH\n",
       "0 2014-03-14 17:33:00  16.85333  23.761\n",
       "1 2014-03-14 18:33:00  15.84090  25.808\n",
       "2 2014-03-14 19:33:00  14.92707  27.854\n",
       "3 2014-03-14 20:33:00  14.37089  28.309\n",
       "4 2014-03-14 21:33:00  14.21901  29.674"
      ]
     },
     "metadata": {},
     "output_type": "display_data"
    }
   ],
   "source": [
    "temp_hum_a.sort_values(by='date_time')\n",
    "temp_hum_b.sort_values(by='date_time')\n",
    "temp_hum_c.sort_values(by='date_time')\n",
    "display(temp_hum_a.head())\n",
    "display(temp_hum_b.head())\n",
    "display(temp_hum_c.head())"
   ]
  },
  {
   "cell_type": "markdown",
   "metadata": {},
   "source": [
    "#### Based on the above plots, the data is very similar ans represents the same timeframe. So for simplicity, the temp_hum_a dataset will be used from now on. "
   ]
  },
  {
   "cell_type": "code",
   "execution_count": 6,
   "id": "ea31236f",
   "metadata": {},
   "outputs": [
    {
     "data": {
      "text/html": [
       "<div>\n",
       "<style scoped>\n",
       "    .dataframe tbody tr th:only-of-type {\n",
       "        vertical-align: middle;\n",
       "    }\n",
       "\n",
       "    .dataframe tbody tr th {\n",
       "        vertical-align: top;\n",
       "    }\n",
       "\n",
       "    .dataframe thead th {\n",
       "        text-align: right;\n",
       "    }\n",
       "</style>\n",
       "<table border=\"1\" class=\"dataframe\">\n",
       "  <thead>\n",
       "    <tr style=\"text-align: right;\">\n",
       "      <th></th>\n",
       "      <th>date_time</th>\n",
       "      <th>temp_C</th>\n",
       "      <th>hum_RH</th>\n",
       "    </tr>\n",
       "  </thead>\n",
       "  <tbody>\n",
       "    <tr>\n",
       "      <th>0</th>\n",
       "      <td>2014-03-14 17:31:00</td>\n",
       "      <td>17.16219</td>\n",
       "      <td>23.475</td>\n",
       "    </tr>\n",
       "    <tr>\n",
       "      <th>1</th>\n",
       "      <td>2014-03-14 18:31:00</td>\n",
       "      <td>16.50121</td>\n",
       "      <td>22.769</td>\n",
       "    </tr>\n",
       "    <tr>\n",
       "      <th>2</th>\n",
       "      <td>2014-03-14 19:31:00</td>\n",
       "      <td>15.84665</td>\n",
       "      <td>25.357</td>\n",
       "    </tr>\n",
       "    <tr>\n",
       "      <th>3</th>\n",
       "      <td>2014-03-14 20:31:00</td>\n",
       "      <td>15.60761</td>\n",
       "      <td>25.122</td>\n",
       "    </tr>\n",
       "    <tr>\n",
       "      <th>4</th>\n",
       "      <td>2014-03-14 21:31:00</td>\n",
       "      <td>15.47507</td>\n",
       "      <td>25.827</td>\n",
       "    </tr>\n",
       "  </tbody>\n",
       "</table>\n",
       "</div>"
      ],
      "text/plain": [
       "            date_time    temp_C  hum_RH\n",
       "0 2014-03-14 17:31:00  17.16219  23.475\n",
       "1 2014-03-14 18:31:00  16.50121  22.769\n",
       "2 2014-03-14 19:31:00  15.84665  25.357\n",
       "3 2014-03-14 20:31:00  15.60761  25.122\n",
       "4 2014-03-14 21:31:00  15.47507  25.827"
      ]
     },
     "metadata": {},
     "output_type": "display_data"
    }
   ],
   "source": [
    "# modify dtype\n",
    "temp_hum_a['date_time'] = pd.to_datetime(temp_hum_a.date_time)\n",
    "display(temp_hum_a.head())"
   ]
  },
  {
   "cell_type": "code",
   "execution_count": 7,
   "id": "b995b217",
   "metadata": {},
   "outputs": [
    {
     "data": {
      "text/html": [
       "<div>\n",
       "<style scoped>\n",
       "    .dataframe tbody tr th:only-of-type {\n",
       "        vertical-align: middle;\n",
       "    }\n",
       "\n",
       "    .dataframe tbody tr th {\n",
       "        vertical-align: top;\n",
       "    }\n",
       "\n",
       "    .dataframe thead th {\n",
       "        text-align: right;\n",
       "    }\n",
       "</style>\n",
       "<table border=\"1\" class=\"dataframe\">\n",
       "  <thead>\n",
       "    <tr style=\"text-align: right;\">\n",
       "      <th></th>\n",
       "      <th>date_time</th>\n",
       "      <th>temp_C</th>\n",
       "      <th>hum_RH</th>\n",
       "    </tr>\n",
       "  </thead>\n",
       "  <tbody>\n",
       "    <tr>\n",
       "      <th>count</th>\n",
       "      <td>2161</td>\n",
       "      <td>2161.000000</td>\n",
       "      <td>2161.000000</td>\n",
       "    </tr>\n",
       "    <tr>\n",
       "      <th>mean</th>\n",
       "      <td>2014-04-28 17:31:00.000000256</td>\n",
       "      <td>17.284567</td>\n",
       "      <td>69.684272</td>\n",
       "    </tr>\n",
       "    <tr>\n",
       "      <th>min</th>\n",
       "      <td>2014-03-14 17:31:00</td>\n",
       "      <td>-4.514270</td>\n",
       "      <td>0.000000</td>\n",
       "    </tr>\n",
       "    <tr>\n",
       "      <th>25%</th>\n",
       "      <td>2014-04-06 05:31:00</td>\n",
       "      <td>12.121350</td>\n",
       "      <td>52.088000</td>\n",
       "    </tr>\n",
       "    <tr>\n",
       "      <th>50%</th>\n",
       "      <td>2014-04-28 17:31:00</td>\n",
       "      <td>18.086740</td>\n",
       "      <td>72.133000</td>\n",
       "    </tr>\n",
       "    <tr>\n",
       "      <th>75%</th>\n",
       "      <td>2014-05-21 05:31:00</td>\n",
       "      <td>22.387620</td>\n",
       "      <td>92.354000</td>\n",
       "    </tr>\n",
       "    <tr>\n",
       "      <th>max</th>\n",
       "      <td>2014-06-12 17:31:00</td>\n",
       "      <td>31.725210</td>\n",
       "      <td>100.000000</td>\n",
       "    </tr>\n",
       "    <tr>\n",
       "      <th>std</th>\n",
       "      <td>NaN</td>\n",
       "      <td>7.300777</td>\n",
       "      <td>24.320896</td>\n",
       "    </tr>\n",
       "  </tbody>\n",
       "</table>\n",
       "</div>"
      ],
      "text/plain": [
       "                           date_time       temp_C       hum_RH\n",
       "count                           2161  2161.000000  2161.000000\n",
       "mean   2014-04-28 17:31:00.000000256    17.284567    69.684272\n",
       "min              2014-03-14 17:31:00    -4.514270     0.000000\n",
       "25%              2014-04-06 05:31:00    12.121350    52.088000\n",
       "50%              2014-04-28 17:31:00    18.086740    72.133000\n",
       "75%              2014-05-21 05:31:00    22.387620    92.354000\n",
       "max              2014-06-12 17:31:00    31.725210   100.000000\n",
       "std                              NaN     7.300777    24.320896"
      ]
     },
     "execution_count": 7,
     "metadata": {},
     "output_type": "execute_result"
    }
   ],
   "source": [
    "temp_hum_a.describe(datetime_is_numeric=True)"
   ]
  },
  {
   "cell_type": "markdown",
   "id": "d51f4892",
   "metadata": {},
   "source": [
    "# Sam Houston project"
   ]
  },
  {
   "cell_type": "code",
   "execution_count": 13,
   "id": "78d099a0",
   "metadata": {},
   "outputs": [],
   "source": [
    "temp_hum = pd.read_csv('data/sam_houston/Logger C.csv',\n",
    "                          header=None, skiprows=5, usecols=[1,2,3])\n",
    "temp_hum.columns = ['date_time', 'temp_C', 'hum_RH']"
   ]
  },
  {
   "cell_type": "code",
   "execution_count": 14,
   "id": "a9c3a13a",
   "metadata": {},
   "outputs": [
    {
     "data": {
      "text/html": [
       "<div>\n",
       "<style scoped>\n",
       "    .dataframe tbody tr th:only-of-type {\n",
       "        vertical-align: middle;\n",
       "    }\n",
       "\n",
       "    .dataframe tbody tr th {\n",
       "        vertical-align: top;\n",
       "    }\n",
       "\n",
       "    .dataframe thead th {\n",
       "        text-align: right;\n",
       "    }\n",
       "</style>\n",
       "<table border=\"1\" class=\"dataframe\">\n",
       "  <thead>\n",
       "    <tr style=\"text-align: right;\">\n",
       "      <th></th>\n",
       "      <th>date_time</th>\n",
       "      <th>temp_C</th>\n",
       "      <th>hum_RH</th>\n",
       "    </tr>\n",
       "  </thead>\n",
       "  <tbody>\n",
       "    <tr>\n",
       "      <th>0</th>\n",
       "      <td>04/07/2015 09:01</td>\n",
       "      <td>16.145 °C</td>\n",
       "      <td>65.4 %RH</td>\n",
       "    </tr>\n",
       "    <tr>\n",
       "      <th>1</th>\n",
       "      <td>04/07/2015 10:01</td>\n",
       "      <td>16.819 °C</td>\n",
       "      <td>79.1 %RH</td>\n",
       "    </tr>\n",
       "    <tr>\n",
       "      <th>2</th>\n",
       "      <td>04/07/2015 11:01</td>\n",
       "      <td>17.922 °C</td>\n",
       "      <td>95.5 %RH</td>\n",
       "    </tr>\n",
       "    <tr>\n",
       "      <th>3</th>\n",
       "      <td>04/07/2015 12:01</td>\n",
       "      <td>15.991 °C</td>\n",
       "      <td>100.0 %RH</td>\n",
       "    </tr>\n",
       "    <tr>\n",
       "      <th>4</th>\n",
       "      <td>04/07/2015 13:01</td>\n",
       "      <td>16.507 °C</td>\n",
       "      <td>100.0 %RH</td>\n",
       "    </tr>\n",
       "  </tbody>\n",
       "</table>\n",
       "</div>"
      ],
      "text/plain": [
       "          date_time     temp_C     hum_RH\n",
       "0  04/07/2015 09:01  16.145 °C   65.4 %RH\n",
       "1  04/07/2015 10:01  16.819 °C   79.1 %RH\n",
       "2  04/07/2015 11:01  17.922 °C   95.5 %RH\n",
       "3  04/07/2015 12:01  15.991 °C  100.0 %RH\n",
       "4  04/07/2015 13:01  16.507 °C  100.0 %RH"
      ]
     },
     "metadata": {},
     "output_type": "display_data"
    },
    {
     "name": "stdout",
     "output_type": "stream",
     "text": [
      "(16307, 3)\n"
     ]
    }
   ],
   "source": [
    "display(temp_hum.head())\n",
    "print(temp_hum.shape)"
   ]
  },
  {
   "cell_type": "code",
   "execution_count": 15,
   "id": "47c4ea10",
   "metadata": {},
   "outputs": [
    {
     "name": "stdout",
     "output_type": "stream",
     "text": [
      "<class 'pandas.core.frame.DataFrame'>\n",
      "RangeIndex: 16307 entries, 0 to 16306\n",
      "Data columns (total 3 columns):\n",
      " #   Column     Non-Null Count  Dtype \n",
      "---  ------     --------------  ----- \n",
      " 0   date_time  16307 non-null  object\n",
      " 1   temp_C     16307 non-null  object\n",
      " 2   hum_RH     16307 non-null  object\n",
      "dtypes: object(3)\n",
      "memory usage: 382.3+ KB\n",
      "None\n",
      "               date_time     temp_C     hum_RH\n",
      "count              16307      16307      16307\n",
      "unique             16307      11356        353\n",
      "top     04/07/2015 09:01  26.282 °C  100.0 %RH\n",
      "freq                   1          7       3534\n"
     ]
    }
   ],
   "source": [
    "print(temp_hum.info())\n",
    "print(temp_hum.describe())"
   ]
  },
  {
   "cell_type": "code",
   "execution_count": 16,
   "id": "e80deb55",
   "metadata": {},
   "outputs": [
    {
     "data": {
      "text/html": [
       "<div>\n",
       "<style scoped>\n",
       "    .dataframe tbody tr th:only-of-type {\n",
       "        vertical-align: middle;\n",
       "    }\n",
       "\n",
       "    .dataframe tbody tr th {\n",
       "        vertical-align: top;\n",
       "    }\n",
       "\n",
       "    .dataframe thead th {\n",
       "        text-align: right;\n",
       "    }\n",
       "</style>\n",
       "<table border=\"1\" class=\"dataframe\">\n",
       "  <thead>\n",
       "    <tr style=\"text-align: right;\">\n",
       "      <th></th>\n",
       "      <th>date_time</th>\n",
       "      <th>temp_C</th>\n",
       "      <th>hum_RH</th>\n",
       "    </tr>\n",
       "  </thead>\n",
       "  <tbody>\n",
       "    <tr>\n",
       "      <th>0</th>\n",
       "      <td>04/07/2015 09:01</td>\n",
       "      <td>16.145</td>\n",
       "      <td>65.4</td>\n",
       "    </tr>\n",
       "    <tr>\n",
       "      <th>1</th>\n",
       "      <td>04/07/2015 10:01</td>\n",
       "      <td>16.819</td>\n",
       "      <td>79.1</td>\n",
       "    </tr>\n",
       "    <tr>\n",
       "      <th>2</th>\n",
       "      <td>04/07/2015 11:01</td>\n",
       "      <td>17.922</td>\n",
       "      <td>95.5</td>\n",
       "    </tr>\n",
       "    <tr>\n",
       "      <th>3</th>\n",
       "      <td>04/07/2015 12:01</td>\n",
       "      <td>15.991</td>\n",
       "      <td>100.0</td>\n",
       "    </tr>\n",
       "    <tr>\n",
       "      <th>4</th>\n",
       "      <td>04/07/2015 13:01</td>\n",
       "      <td>16.507</td>\n",
       "      <td>100.0</td>\n",
       "    </tr>\n",
       "  </tbody>\n",
       "</table>\n",
       "</div>"
      ],
      "text/plain": [
       "          date_time  temp_C  hum_RH\n",
       "0  04/07/2015 09:01  16.145    65.4\n",
       "1  04/07/2015 10:01  16.819    79.1\n",
       "2  04/07/2015 11:01  17.922    95.5\n",
       "3  04/07/2015 12:01  15.991   100.0\n",
       "4  04/07/2015 13:01  16.507   100.0"
      ]
     },
     "metadata": {},
     "output_type": "display_data"
    }
   ],
   "source": [
    "# process temp and hum columns\n",
    "temp_hum['temp_C'] = temp_hum['temp_C'].str.split(expand=True)[0]\n",
    "temp_hum['hum_RH'] = temp_hum['hum_RH'].str.split(expand=True)[0]\n",
    "\n",
    "temp_hum = temp_hum.astype({'temp_C':'float','hum_RH':'float'})\n",
    "\n",
    "display(temp_hum.head())"
   ]
  },
  {
   "cell_type": "code",
   "execution_count": 78,
   "id": "2e68bfe3",
   "metadata": {},
   "outputs": [
    {
     "data": {
      "text/html": [
       "<div>\n",
       "<style scoped>\n",
       "    .dataframe tbody tr th:only-of-type {\n",
       "        vertical-align: middle;\n",
       "    }\n",
       "\n",
       "    .dataframe tbody tr th {\n",
       "        vertical-align: top;\n",
       "    }\n",
       "\n",
       "    .dataframe thead th {\n",
       "        text-align: right;\n",
       "    }\n",
       "</style>\n",
       "<table border=\"1\" class=\"dataframe\">\n",
       "  <thead>\n",
       "    <tr style=\"text-align: right;\">\n",
       "      <th></th>\n",
       "      <th>date_time</th>\n",
       "      <th>temp_C</th>\n",
       "      <th>hum_RH</th>\n",
       "    </tr>\n",
       "  </thead>\n",
       "  <tbody>\n",
       "    <tr>\n",
       "      <th>0</th>\n",
       "      <td>2015-04-07 09:01:00</td>\n",
       "      <td>16.145</td>\n",
       "      <td>65.4</td>\n",
       "    </tr>\n",
       "    <tr>\n",
       "      <th>1</th>\n",
       "      <td>2015-04-07 10:01:00</td>\n",
       "      <td>16.819</td>\n",
       "      <td>79.1</td>\n",
       "    </tr>\n",
       "    <tr>\n",
       "      <th>2</th>\n",
       "      <td>2015-04-07 11:01:00</td>\n",
       "      <td>17.922</td>\n",
       "      <td>95.5</td>\n",
       "    </tr>\n",
       "    <tr>\n",
       "      <th>3</th>\n",
       "      <td>2015-04-07 12:01:00</td>\n",
       "      <td>15.991</td>\n",
       "      <td>100.0</td>\n",
       "    </tr>\n",
       "    <tr>\n",
       "      <th>4</th>\n",
       "      <td>2015-04-07 13:01:00</td>\n",
       "      <td>16.507</td>\n",
       "      <td>100.0</td>\n",
       "    </tr>\n",
       "    <tr>\n",
       "      <th>5</th>\n",
       "      <td>2015-04-07 14:01:00</td>\n",
       "      <td>16.589</td>\n",
       "      <td>100.0</td>\n",
       "    </tr>\n",
       "    <tr>\n",
       "      <th>6</th>\n",
       "      <td>2015-04-07 15:01:00</td>\n",
       "      <td>16.981</td>\n",
       "      <td>100.0</td>\n",
       "    </tr>\n",
       "    <tr>\n",
       "      <th>7</th>\n",
       "      <td>2015-04-07 16:01:00</td>\n",
       "      <td>16.491</td>\n",
       "      <td>100.0</td>\n",
       "    </tr>\n",
       "    <tr>\n",
       "      <th>8</th>\n",
       "      <td>2015-04-07 17:01:00</td>\n",
       "      <td>16.576</td>\n",
       "      <td>100.0</td>\n",
       "    </tr>\n",
       "    <tr>\n",
       "      <th>9</th>\n",
       "      <td>2015-04-07 18:01:00</td>\n",
       "      <td>16.595</td>\n",
       "      <td>100.0</td>\n",
       "    </tr>\n",
       "  </tbody>\n",
       "</table>\n",
       "</div>"
      ],
      "text/plain": [
       "            date_time  temp_C  hum_RH\n",
       "0 2015-04-07 09:01:00  16.145    65.4\n",
       "1 2015-04-07 10:01:00  16.819    79.1\n",
       "2 2015-04-07 11:01:00  17.922    95.5\n",
       "3 2015-04-07 12:01:00  15.991   100.0\n",
       "4 2015-04-07 13:01:00  16.507   100.0\n",
       "5 2015-04-07 14:01:00  16.589   100.0\n",
       "6 2015-04-07 15:01:00  16.981   100.0\n",
       "7 2015-04-07 16:01:00  16.491   100.0\n",
       "8 2015-04-07 17:01:00  16.576   100.0\n",
       "9 2015-04-07 18:01:00  16.595   100.0"
      ]
     },
     "metadata": {},
     "output_type": "display_data"
    },
    {
     "name": "stdout",
     "output_type": "stream",
     "text": [
      "<class 'pandas.core.frame.DataFrame'>\n",
      "RangeIndex: 16307 entries, 0 to 16306\n",
      "Data columns (total 3 columns):\n",
      " #   Column     Non-Null Count  Dtype         \n",
      "---  ------     --------------  -----         \n",
      " 0   date_time  16307 non-null  datetime64[ns]\n",
      " 1   temp_C     16307 non-null  float64       \n",
      " 2   hum_RH     16307 non-null  float64       \n",
      "dtypes: datetime64[ns](1), float64(2)\n",
      "memory usage: 382.3 KB\n",
      "None\n"
     ]
    }
   ],
   "source": [
    "# modify dtype\n",
    "temp_hum['date_time'] = pd.to_datetime(temp_hum.date_time).dt.strftime('%Y-%m-%d %H:%M')\n",
    "temp_hum['date_time'] = pd.to_datetime(temp_hum.date_time)\n",
    "\n",
    "display(temp_hum.head(10))\n",
    "print(temp_hum.info())"
   ]
  },
  {
   "cell_type": "code",
   "execution_count": 79,
   "id": "fcab7565",
   "metadata": {},
   "outputs": [
    {
     "data": {
      "text/html": [
       "<div>\n",
       "<style scoped>\n",
       "    .dataframe tbody tr th:only-of-type {\n",
       "        vertical-align: middle;\n",
       "    }\n",
       "\n",
       "    .dataframe tbody tr th {\n",
       "        vertical-align: top;\n",
       "    }\n",
       "\n",
       "    .dataframe thead th {\n",
       "        text-align: right;\n",
       "    }\n",
       "</style>\n",
       "<table border=\"1\" class=\"dataframe\">\n",
       "  <thead>\n",
       "    <tr style=\"text-align: right;\">\n",
       "      <th></th>\n",
       "      <th>date_time</th>\n",
       "      <th>temp_C</th>\n",
       "      <th>hum_RH</th>\n",
       "    </tr>\n",
       "  </thead>\n",
       "  <tbody>\n",
       "    <tr>\n",
       "      <th>count</th>\n",
       "      <td>16307</td>\n",
       "      <td>16307.000000</td>\n",
       "      <td>16307.000000</td>\n",
       "    </tr>\n",
       "    <tr>\n",
       "      <th>mean</th>\n",
       "      <td>2016-03-12 02:01:00.000000512</td>\n",
       "      <td>16.601271</td>\n",
       "      <td>70.338861</td>\n",
       "    </tr>\n",
       "    <tr>\n",
       "      <th>min</th>\n",
       "      <td>2015-04-07 09:01:00</td>\n",
       "      <td>-12.285000</td>\n",
       "      <td>0.000000</td>\n",
       "    </tr>\n",
       "    <tr>\n",
       "      <th>25%</th>\n",
       "      <td>2015-09-24 05:31:00</td>\n",
       "      <td>10.773500</td>\n",
       "      <td>55.100000</td>\n",
       "    </tr>\n",
       "    <tr>\n",
       "      <th>50%</th>\n",
       "      <td>2016-03-12 02:01:00</td>\n",
       "      <td>18.061000</td>\n",
       "      <td>80.200000</td>\n",
       "    </tr>\n",
       "    <tr>\n",
       "      <th>75%</th>\n",
       "      <td>2016-08-28 22:31:00</td>\n",
       "      <td>23.100500</td>\n",
       "      <td>97.900000</td>\n",
       "    </tr>\n",
       "    <tr>\n",
       "      <th>max</th>\n",
       "      <td>2017-02-14 19:01:00</td>\n",
       "      <td>35.988000</td>\n",
       "      <td>100.000000</td>\n",
       "    </tr>\n",
       "    <tr>\n",
       "      <th>std</th>\n",
       "      <td>NaN</td>\n",
       "      <td>8.857740</td>\n",
       "      <td>31.905459</td>\n",
       "    </tr>\n",
       "  </tbody>\n",
       "</table>\n",
       "</div>"
      ],
      "text/plain": [
       "                           date_time        temp_C        hum_RH\n",
       "count                          16307  16307.000000  16307.000000\n",
       "mean   2016-03-12 02:01:00.000000512     16.601271     70.338861\n",
       "min              2015-04-07 09:01:00    -12.285000      0.000000\n",
       "25%              2015-09-24 05:31:00     10.773500     55.100000\n",
       "50%              2016-03-12 02:01:00     18.061000     80.200000\n",
       "75%              2016-08-28 22:31:00     23.100500     97.900000\n",
       "max              2017-02-14 19:01:00     35.988000    100.000000\n",
       "std                              NaN      8.857740     31.905459"
      ]
     },
     "execution_count": 79,
     "metadata": {},
     "output_type": "execute_result"
    }
   ],
   "source": [
    "temp_hum.describe(datetime_is_numeric=True)"
   ]
  },
  {
   "cell_type": "markdown",
   "metadata": {},
   "source": [
    "# UTK Tox"
   ]
  },
  {
   "cell_type": "code",
   "execution_count": 33,
   "metadata": {},
   "outputs": [
    {
     "name": "stdout",
     "output_type": "stream",
     "text": [
      "data/utk_tox/Tox 013 ADH Calculations Completed.xlsx\n",
      "data/utk_tox/Tox019 temperature data.xlsx\n",
      "data/utk_tox/Tox007 ADH Calculations Completed.xlsx\n",
      "data/utk_tox/Tox015 ADH Calculations Completed.xlsx\n",
      "data/utk_tox/Tox010 ADH Calculations Completed.xlsx\n",
      "data/utk_tox/TOX004 ADH Calculations Completed.xlsx\n",
      "data/utk_tox/Tox016 ADH Calculations Completed.xlsx\n",
      "data/utk_tox/Tox001 ADH Calculations Completed.xlsx\n",
      "data/utk_tox/Tox 021 Temperature.xlsx\n",
      "data/utk_tox/Tox009 ADH Calculations Completed.xlsx\n",
      "data/utk_tox/TOX008 ADH Calculations.xlsx\n",
      "data/utk_tox/Tox 022 Temperature.xlsx\n",
      "data/utk_tox/Tox006 ADH Calculations Completed .xlsx\n",
      "data/utk_tox/Tox 002 ADH Calculations (1).xlsx\n",
      "data/utk_tox/Tox 003 ADH Calculations Completed.xlsx\n",
      "data/utk_tox/Tox 012 ADH Calculations Completed.xlsx\n",
      "data/utk_tox/Tox011 ADH Calculations Completed.xlsx\n",
      "data/utk_tox/Tox014 ADH Calculations Completed.xlsx\n",
      "data/utk_tox/TOX005 ADH Calculations Completed .xlsx\n",
      "data/utk_tox/Tox018 Collective ADD and ADH data.xlsx\n"
     ]
    }
   ],
   "source": [
    "'''\n",
    "# convert xslx to csv\n",
    "directory = 'data/utk_tox/'\n",
    "for filename in os.listdir(directory):\n",
    "    f = os.path.join(directory, filename)\n",
    "    if os.path.isfile(f):\n",
    "        if f[-4:] == 'xlsx':\n",
    "            print(f)\n",
    "            if f == 'data/utk_tox/Tox001 ADH Calculations Completed.xlsx':\n",
    "                pd.read_excel(f,header=None, skiprows=5, usecols=[2,4,5]).to_csv(f[:-4]+'csv', \n",
    "                                                                             index=False, \n",
    "                                                                             header=None, sep=',')\n",
    "            \n",
    "            else:\n",
    "                pd.read_excel(f,header=None, skiprows=5, usecols=[1,2,3]).to_csv(f[:-4]+'csv', \n",
    "                                                                             index=False, \n",
    "                                                                             header=None, sep=',')\n",
    "\n",
    "# Performed in command line:            \n",
    "# for several file: sed -i '/Time/d' file.csv\n",
    "# sed -i 's/43552.71875/2019-03-28 17:14:00/g' Tox\\ 002\\ ADH\\ Calculations\\ \\(1\\).csv\n",
    "'''"
   ]
  },
  {
   "cell_type": "code",
   "execution_count": 147,
   "metadata": {
    "scrolled": false
   },
   "outputs": [
    {
     "name": "stdout",
     "output_type": "stream",
     "text": [
      "data/utk_tox/Tox 013 ADH Calculations Completed.csv\n",
      "data/utk_tox/Tox019 temperature data.csv\n",
      "data/utk_tox/Tox007 ADH Calculations Completed.csv\n",
      "data/utk_tox/Tox015 ADH Calculations Completed.csv\n",
      "data/utk_tox/Tox010 ADH Calculations Completed.csv\n",
      "data/utk_tox/TOX004 ADH Calculations Completed.csv\n",
      "data/utk_tox/Tox016 ADH Calculations Completed.csv\n",
      "data/utk_tox/Tox 021 Temperature.csv\n",
      "data/utk_tox/Tox009 ADH Calculations Completed.csv\n",
      "data/utk_tox/TOX008 ADH Calculations.csv\n",
      "data/utk_tox/Tox 022 Temperature.csv\n",
      "data/utk_tox/Tox006 ADH Calculations Completed .csv\n",
      "data/utk_tox/Tox 002 ADH Calculations (1).csv\n",
      "data/utk_tox/Tox 003 ADH Calculations Completed.csv\n",
      "data/utk_tox/Tox 012 ADH Calculations Completed.csv\n",
      "data/utk_tox/Tox011 ADH Calculations Completed.csv\n",
      "data/utk_tox/Tox014 ADH Calculations Completed.csv\n",
      "data/utk_tox/TOX005 ADH Calculations Completed .csv\n",
      "data/utk_tox/Tox018 Collective ADD and ADH data.csv\n",
      "data/utk_tox/Tox001 ADH Calculations Completed.csv\n"
     ]
    }
   ],
   "source": [
    "'''\n",
    "# process all files into single file called processed_temp_hum.csv\n",
    "directory = 'data/utk_tox/'\n",
    "df_ls = []\n",
    "for filename in os.listdir(directory):\n",
    "    f = os.path.join(directory, filename)\n",
    "    if os.path.isfile(f):\n",
    "        if f[-3:] == 'csv':\n",
    "            print(f)\n",
    "            df = pd.read_csv(f,header=None)\n",
    "            df.columns = ['date_time', 'temp_C', 'hum_RH']\n",
    "            df['date_time'] = pd.to_datetime(df.date_time, errors='coerce')\n",
    "            \n",
    "            if df.temp_C.dtype == 'object':\n",
    "                df['temp_C'] = df['temp_C'].str.split(expand=True)[0]\n",
    "                df['hum_RH'] = df['hum_RH'].str.split(expand=True)[0]\n",
    "                df = df.astype({'temp_C':'float'})\n",
    "            \n",
    "            if df.hum_RH.dtype == 'object':\n",
    "                df['hum_RH'] = df['hum_RH'].str.split(expand=True)[0]\n",
    "                df = df.astype({'hum_RH':'float'})\n",
    "            \n",
    "            if len(df[df['date_time'].isnull()]) != 0:\n",
    "                display(df[df['date_time'].isnull()])\n",
    "                \n",
    "            df_ls.append(df)\n",
    "\n",
    "df_concat = pd.concat(df_ls)\n",
    "df_concat.to_csv('data/utk_tox/processed_temp_hum.csv', index=False)\n",
    "'''"
   ]
  },
  {
   "cell_type": "code",
   "execution_count": 80,
   "metadata": {},
   "outputs": [
    {
     "name": "stdout",
     "output_type": "stream",
     "text": [
      "(24943, 3)\n"
     ]
    },
    {
     "data": {
      "text/html": [
       "<div>\n",
       "<style scoped>\n",
       "    .dataframe tbody tr th:only-of-type {\n",
       "        vertical-align: middle;\n",
       "    }\n",
       "\n",
       "    .dataframe tbody tr th {\n",
       "        vertical-align: top;\n",
       "    }\n",
       "\n",
       "    .dataframe thead th {\n",
       "        text-align: right;\n",
       "    }\n",
       "</style>\n",
       "<table border=\"1\" class=\"dataframe\">\n",
       "  <thead>\n",
       "    <tr style=\"text-align: right;\">\n",
       "      <th></th>\n",
       "      <th>date_time</th>\n",
       "      <th>temp_C</th>\n",
       "      <th>hum_RH</th>\n",
       "    </tr>\n",
       "  </thead>\n",
       "  <tbody>\n",
       "    <tr>\n",
       "      <th>22731</th>\n",
       "      <td>2019-02-25 16:46:00</td>\n",
       "      <td>20.316</td>\n",
       "      <td>26.844</td>\n",
       "    </tr>\n",
       "    <tr>\n",
       "      <th>22732</th>\n",
       "      <td>2019-02-25 17:46:00</td>\n",
       "      <td>18.981</td>\n",
       "      <td>20.045</td>\n",
       "    </tr>\n",
       "    <tr>\n",
       "      <th>22733</th>\n",
       "      <td>2019-02-25 18:46:00</td>\n",
       "      <td>8.344</td>\n",
       "      <td>31.712</td>\n",
       "    </tr>\n",
       "    <tr>\n",
       "      <th>22734</th>\n",
       "      <td>2019-02-25 19:46:00</td>\n",
       "      <td>7.207</td>\n",
       "      <td>32.686</td>\n",
       "    </tr>\n",
       "    <tr>\n",
       "      <th>22735</th>\n",
       "      <td>2019-02-25 20:46:00</td>\n",
       "      <td>5.844</td>\n",
       "      <td>49.607</td>\n",
       "    </tr>\n",
       "  </tbody>\n",
       "</table>\n",
       "</div>"
      ],
      "text/plain": [
       "                 date_time  temp_C  hum_RH\n",
       "22731  2019-02-25 16:46:00  20.316  26.844\n",
       "22732  2019-02-25 17:46:00  18.981  20.045\n",
       "22733  2019-02-25 18:46:00   8.344  31.712\n",
       "22734  2019-02-25 19:46:00   7.207  32.686\n",
       "22735  2019-02-25 20:46:00   5.844  49.607"
      ]
     },
     "metadata": {},
     "output_type": "display_data"
    },
    {
     "data": {
      "text/html": [
       "<div>\n",
       "<style scoped>\n",
       "    .dataframe tbody tr th:only-of-type {\n",
       "        vertical-align: middle;\n",
       "    }\n",
       "\n",
       "    .dataframe tbody tr th {\n",
       "        vertical-align: top;\n",
       "    }\n",
       "\n",
       "    .dataframe thead th {\n",
       "        text-align: right;\n",
       "    }\n",
       "</style>\n",
       "<table border=\"1\" class=\"dataframe\">\n",
       "  <thead>\n",
       "    <tr style=\"text-align: right;\">\n",
       "      <th></th>\n",
       "      <th>date_time</th>\n",
       "      <th>temp_C</th>\n",
       "      <th>hum_RH</th>\n",
       "    </tr>\n",
       "  </thead>\n",
       "  <tbody>\n",
       "    <tr>\n",
       "      <th>17527</th>\n",
       "      <td>2021-08-13 03:44:00</td>\n",
       "      <td>23.97841</td>\n",
       "      <td>90.592</td>\n",
       "    </tr>\n",
       "    <tr>\n",
       "      <th>17528</th>\n",
       "      <td>2021-08-13 04:44:00</td>\n",
       "      <td>23.89702</td>\n",
       "      <td>92.649</td>\n",
       "    </tr>\n",
       "    <tr>\n",
       "      <th>17529</th>\n",
       "      <td>2021-08-13 05:44:00</td>\n",
       "      <td>23.12671</td>\n",
       "      <td>96.176</td>\n",
       "    </tr>\n",
       "    <tr>\n",
       "      <th>17530</th>\n",
       "      <td>2021-08-13 06:44:00</td>\n",
       "      <td>22.79525</td>\n",
       "      <td>97.058</td>\n",
       "    </tr>\n",
       "    <tr>\n",
       "      <th>17531</th>\n",
       "      <td>2021-08-13 07:44:00</td>\n",
       "      <td>22.72148</td>\n",
       "      <td>98.822</td>\n",
       "    </tr>\n",
       "  </tbody>\n",
       "</table>\n",
       "</div>"
      ],
      "text/plain": [
       "                 date_time    temp_C  hum_RH\n",
       "17527  2021-08-13 03:44:00  23.97841  90.592\n",
       "17528  2021-08-13 04:44:00  23.89702  92.649\n",
       "17529  2021-08-13 05:44:00  23.12671  96.176\n",
       "17530  2021-08-13 06:44:00  22.79525  97.058\n",
       "17531  2021-08-13 07:44:00  22.72148  98.822"
      ]
     },
     "metadata": {},
     "output_type": "display_data"
    },
    {
     "name": "stdout",
     "output_type": "stream",
     "text": [
      "<class 'pandas.core.frame.DataFrame'>\n",
      "Int64Index: 24943 entries, 22731 to 17531\n",
      "Data columns (total 3 columns):\n",
      " #   Column     Non-Null Count  Dtype  \n",
      "---  ------     --------------  -----  \n",
      " 0   date_time  24943 non-null  object \n",
      " 1   temp_C     24943 non-null  float64\n",
      " 2   hum_RH     24943 non-null  float64\n",
      "dtypes: float64(2), object(1)\n",
      "memory usage: 779.5+ KB\n"
     ]
    },
    {
     "data": {
      "text/plain": [
       "None"
      ]
     },
     "metadata": {},
     "output_type": "display_data"
    }
   ],
   "source": [
    "tox_temp_hum = pd.read_csv('data/utk_tox/processed_temp_hum.csv').sort_values('date_time')\n",
    "print(tox_temp_hum.shape)\n",
    "display(tox_temp_hum.head())\n",
    "display(tox_temp_hum.tail())\n",
    "display(tox_temp_hum.info())"
   ]
  },
  {
   "cell_type": "code",
   "execution_count": 81,
   "metadata": {},
   "outputs": [],
   "source": [
    "# change dtype\n",
    "tox_temp_hum['date_time'] = pd.to_datetime(tox_temp_hum['date_time'])"
   ]
  },
  {
   "cell_type": "code",
   "execution_count": 82,
   "metadata": {},
   "outputs": [
    {
     "name": "stdout",
     "output_type": "stream",
     "text": [
      "<class 'pandas.core.frame.DataFrame'>\n",
      "Int64Index: 24943 entries, 22731 to 17531\n",
      "Data columns (total 3 columns):\n",
      " #   Column     Non-Null Count  Dtype         \n",
      "---  ------     --------------  -----         \n",
      " 0   date_time  24943 non-null  datetime64[ns]\n",
      " 1   temp_C     24943 non-null  float64       \n",
      " 2   hum_RH     24943 non-null  float64       \n",
      "dtypes: datetime64[ns](1), float64(2)\n",
      "memory usage: 779.5 KB\n"
     ]
    }
   ],
   "source": [
    "tox_temp_hum.info()"
   ]
  },
  {
   "cell_type": "code",
   "execution_count": 83,
   "metadata": {},
   "outputs": [
    {
     "data": {
      "text/html": [
       "<div>\n",
       "<style scoped>\n",
       "    .dataframe tbody tr th:only-of-type {\n",
       "        vertical-align: middle;\n",
       "    }\n",
       "\n",
       "    .dataframe tbody tr th {\n",
       "        vertical-align: top;\n",
       "    }\n",
       "\n",
       "    .dataframe thead th {\n",
       "        text-align: right;\n",
       "    }\n",
       "</style>\n",
       "<table border=\"1\" class=\"dataframe\">\n",
       "  <thead>\n",
       "    <tr style=\"text-align: right;\">\n",
       "      <th></th>\n",
       "      <th>date_time</th>\n",
       "      <th>temp_C</th>\n",
       "      <th>hum_RH</th>\n",
       "    </tr>\n",
       "  </thead>\n",
       "  <tbody>\n",
       "    <tr>\n",
       "      <th>count</th>\n",
       "      <td>24943</td>\n",
       "      <td>24943.000000</td>\n",
       "      <td>24943.000000</td>\n",
       "    </tr>\n",
       "    <tr>\n",
       "      <th>mean</th>\n",
       "      <td>2020-03-18 20:01:25.488513792</td>\n",
       "      <td>15.737101</td>\n",
       "      <td>73.291921</td>\n",
       "    </tr>\n",
       "    <tr>\n",
       "      <th>min</th>\n",
       "      <td>2019-02-25 16:46:00</td>\n",
       "      <td>-9.726850</td>\n",
       "      <td>0.000000</td>\n",
       "    </tr>\n",
       "    <tr>\n",
       "      <th>25%</th>\n",
       "      <td>2019-06-30 23:49:00</td>\n",
       "      <td>9.098500</td>\n",
       "      <td>58.500000</td>\n",
       "    </tr>\n",
       "    <tr>\n",
       "      <th>50%</th>\n",
       "      <td>2020-02-10 16:09:00</td>\n",
       "      <td>16.849020</td>\n",
       "      <td>78.400000</td>\n",
       "    </tr>\n",
       "    <tr>\n",
       "      <th>75%</th>\n",
       "      <td>2020-11-27 06:14:00</td>\n",
       "      <td>22.334000</td>\n",
       "      <td>94.413000</td>\n",
       "    </tr>\n",
       "    <tr>\n",
       "      <th>max</th>\n",
       "      <td>2021-08-13 07:44:00</td>\n",
       "      <td>42.184000</td>\n",
       "      <td>100.000000</td>\n",
       "    </tr>\n",
       "    <tr>\n",
       "      <th>std</th>\n",
       "      <td>NaN</td>\n",
       "      <td>8.531775</td>\n",
       "      <td>24.728624</td>\n",
       "    </tr>\n",
       "  </tbody>\n",
       "</table>\n",
       "</div>"
      ],
      "text/plain": [
       "                           date_time        temp_C        hum_RH\n",
       "count                          24943  24943.000000  24943.000000\n",
       "mean   2020-03-18 20:01:25.488513792     15.737101     73.291921\n",
       "min              2019-02-25 16:46:00     -9.726850      0.000000\n",
       "25%              2019-06-30 23:49:00      9.098500     58.500000\n",
       "50%              2020-02-10 16:09:00     16.849020     78.400000\n",
       "75%              2020-11-27 06:14:00     22.334000     94.413000\n",
       "max              2021-08-13 07:44:00     42.184000    100.000000\n",
       "std                              NaN      8.531775     24.728624"
      ]
     },
     "execution_count": 83,
     "metadata": {},
     "output_type": "execute_result"
    }
   ],
   "source": [
    "tox_temp_hum.describe(datetime_is_numeric=True)"
   ]
  },
  {
   "cell_type": "markdown",
   "id": "e86d06d4",
   "metadata": {},
   "source": [
    "# Merge temp/hum data from all three projects"
   ]
  },
  {
   "cell_type": "code",
   "execution_count": 57,
   "id": "9aeab1f7",
   "metadata": {},
   "outputs": [
    {
     "data": {
      "image/png": "[encoded data removed]",
      "text/plain": [
       "<Figure size 640x480 with 1 Axes>"
      ]
     },
     "metadata": {},
     "output_type": "display_data"
    }
   ],
   "source": [
    "df = pd.DataFrame({'a': temp_hum_a['temp_C'], 'b': temp_hum['temp_C'], 'c': tox_temp_hum['temp_C']})\n",
    "ax = df.plot.kde()"
   ]
  },
  {
   "cell_type": "code",
   "execution_count": 58,
   "id": "7e4785ce",
   "metadata": {},
   "outputs": [
    {
     "data": {
      "image/png": "[encoded data removed]",
      "text/plain": [
       "<Figure size 640x480 with 1 Axes>"
      ]
     },
     "metadata": {},
     "output_type": "display_data"
    }
   ],
   "source": [
    "df = pd.DataFrame({'a': temp_hum_a['hum_RH'], 'b': temp_hum['hum_RH'], 'c': tox_temp_hum['hum_RH']})\n",
    "ax = df.plot.kde()"
   ]
  },
  {
   "cell_type": "code",
   "execution_count": 59,
   "id": "6b5105b0",
   "metadata": {},
   "outputs": [
    {
     "data": {
      "text/html": [
       "<div>\n",
       "<style scoped>\n",
       "    .dataframe tbody tr th:only-of-type {\n",
       "        vertical-align: middle;\n",
       "    }\n",
       "\n",
       "    .dataframe tbody tr th {\n",
       "        vertical-align: top;\n",
       "    }\n",
       "\n",
       "    .dataframe thead th {\n",
       "        text-align: right;\n",
       "    }\n",
       "</style>\n",
       "<table border=\"1\" class=\"dataframe\">\n",
       "  <thead>\n",
       "    <tr style=\"text-align: right;\">\n",
       "      <th></th>\n",
       "      <th>date_time</th>\n",
       "      <th>temp_C</th>\n",
       "      <th>hum_RH</th>\n",
       "    </tr>\n",
       "  </thead>\n",
       "  <tbody>\n",
       "    <tr>\n",
       "      <th>0</th>\n",
       "      <td>2014-03-14 17:31:00</td>\n",
       "      <td>17.16219</td>\n",
       "      <td>23.475</td>\n",
       "    </tr>\n",
       "    <tr>\n",
       "      <th>1</th>\n",
       "      <td>2014-03-14 18:31:00</td>\n",
       "      <td>16.50121</td>\n",
       "      <td>22.769</td>\n",
       "    </tr>\n",
       "    <tr>\n",
       "      <th>2</th>\n",
       "      <td>2014-03-14 19:31:00</td>\n",
       "      <td>15.84665</td>\n",
       "      <td>25.357</td>\n",
       "    </tr>\n",
       "    <tr>\n",
       "      <th>3</th>\n",
       "      <td>2014-03-14 20:31:00</td>\n",
       "      <td>15.60761</td>\n",
       "      <td>25.122</td>\n",
       "    </tr>\n",
       "    <tr>\n",
       "      <th>4</th>\n",
       "      <td>2014-03-14 21:31:00</td>\n",
       "      <td>15.47507</td>\n",
       "      <td>25.827</td>\n",
       "    </tr>\n",
       "  </tbody>\n",
       "</table>\n",
       "</div>"
      ],
      "text/plain": [
       "             date_time    temp_C  hum_RH\n",
       "0  2014-03-14 17:31:00  17.16219  23.475\n",
       "1  2014-03-14 18:31:00  16.50121  22.769\n",
       "2  2014-03-14 19:31:00  15.84665  25.357\n",
       "3  2014-03-14 20:31:00  15.60761  25.122\n",
       "4  2014-03-14 21:31:00  15.47507  25.827"
      ]
     },
     "metadata": {},
     "output_type": "display_data"
    },
    {
     "name": "stdout",
     "output_type": "stream",
     "text": [
      "(2161, 3) (16307, 3) (24943, 3) (43411, 3)\n"
     ]
    }
   ],
   "source": [
    "# merge data\n",
    "frames = [temp_hum_a, temp_hum, tox_temp_hum]\n",
    "temp_hum_merged = pd.concat(frames)\n",
    "display(temp_hum_merged.head())\n",
    "print(temp_hum_a.shape, temp_hum.shape, tox_temp_hum.shape, temp_hum_merged.shape)"
   ]
  },
  {
   "cell_type": "code",
   "execution_count": 60,
   "metadata": {},
   "outputs": [],
   "source": [
    "# modify dtype\n",
    "temp_hum_merged['date_time'] = pd.to_datetime(temp_hum_merged['date_time'])"
   ]
  },
  {
   "cell_type": "code",
   "execution_count": 61,
   "id": "2dc8b430",
   "metadata": {},
   "outputs": [
    {
     "name": "stdout",
     "output_type": "stream",
     "text": [
      "<class 'pandas.core.frame.DataFrame'>\n",
      "Int64Index: 43411 entries, 0 to 17531\n",
      "Data columns (total 3 columns):\n",
      " #   Column     Non-Null Count  Dtype         \n",
      "---  ------     --------------  -----         \n",
      " 0   date_time  43411 non-null  datetime64[ns]\n",
      " 1   temp_C     43411 non-null  float64       \n",
      " 2   hum_RH     43411 non-null  float64       \n",
      "dtypes: datetime64[ns](1), float64(2)\n",
      "memory usage: 1.3 MB\n"
     ]
    }
   ],
   "source": [
    "temp_hum_merged.info()"
   ]
  },
  {
   "cell_type": "code",
   "execution_count": 62,
   "id": "7428088a",
   "metadata": {},
   "outputs": [
    {
     "data": {
      "text/html": [
       "<div>\n",
       "<style scoped>\n",
       "    .dataframe tbody tr th:only-of-type {\n",
       "        vertical-align: middle;\n",
       "    }\n",
       "\n",
       "    .dataframe tbody tr th {\n",
       "        vertical-align: top;\n",
       "    }\n",
       "\n",
       "    .dataframe thead th {\n",
       "        text-align: right;\n",
       "    }\n",
       "</style>\n",
       "<table border=\"1\" class=\"dataframe\">\n",
       "  <thead>\n",
       "    <tr style=\"text-align: right;\">\n",
       "      <th></th>\n",
       "      <th>date_time</th>\n",
       "      <th>temp_C</th>\n",
       "      <th>hum_RH</th>\n",
       "    </tr>\n",
       "  </thead>\n",
       "  <tbody>\n",
       "    <tr>\n",
       "      <th>count</th>\n",
       "      <td>43411</td>\n",
       "      <td>43411.000000</td>\n",
       "      <td>43411.000000</td>\n",
       "    </tr>\n",
       "    <tr>\n",
       "      <th>mean</th>\n",
       "      <td>2018-05-30 09:41:01.694501632</td>\n",
       "      <td>16.138753</td>\n",
       "      <td>72.003038</td>\n",
       "    </tr>\n",
       "    <tr>\n",
       "      <th>min</th>\n",
       "      <td>2014-03-14 17:31:00</td>\n",
       "      <td>-12.285000</td>\n",
       "      <td>0.000000</td>\n",
       "    </tr>\n",
       "    <tr>\n",
       "      <th>25%</th>\n",
       "      <td>2016-04-03 12:31:00</td>\n",
       "      <td>9.918660</td>\n",
       "      <td>57.100000</td>\n",
       "    </tr>\n",
       "    <tr>\n",
       "      <th>50%</th>\n",
       "      <td>2019-04-30 17:19:00</td>\n",
       "      <td>17.402000</td>\n",
       "      <td>78.700000</td>\n",
       "    </tr>\n",
       "    <tr>\n",
       "      <th>75%</th>\n",
       "      <td>2020-03-20 03:39:00</td>\n",
       "      <td>22.651000</td>\n",
       "      <td>95.800000</td>\n",
       "    </tr>\n",
       "    <tr>\n",
       "      <th>max</th>\n",
       "      <td>2021-08-13 07:44:00</td>\n",
       "      <td>42.184000</td>\n",
       "      <td>100.000000</td>\n",
       "    </tr>\n",
       "    <tr>\n",
       "      <th>std</th>\n",
       "      <td>NaN</td>\n",
       "      <td>8.613110</td>\n",
       "      <td>27.666212</td>\n",
       "    </tr>\n",
       "  </tbody>\n",
       "</table>\n",
       "</div>"
      ],
      "text/plain": [
       "                           date_time        temp_C        hum_RH\n",
       "count                          43411  43411.000000  43411.000000\n",
       "mean   2018-05-30 09:41:01.694501632     16.138753     72.003038\n",
       "min              2014-03-14 17:31:00    -12.285000      0.000000\n",
       "25%              2016-04-03 12:31:00      9.918660     57.100000\n",
       "50%              2019-04-30 17:19:00     17.402000     78.700000\n",
       "75%              2020-03-20 03:39:00     22.651000     95.800000\n",
       "max              2021-08-13 07:44:00     42.184000    100.000000\n",
       "std                              NaN      8.613110     27.666212"
      ]
     },
     "execution_count": 62,
     "metadata": {},
     "output_type": "execute_result"
    }
   ],
   "source": [
    "temp_hum_merged.describe(datetime_is_numeric=True)"
   ]
  },
  {
   "cell_type": "code",
   "execution_count": 63,
   "id": "269df7ff",
   "metadata": {},
   "outputs": [
    {
     "data": {
      "text/plain": [
       "<AxesSubplot: xlabel='date_time'>"
      ]
     },
     "execution_count": 63,
     "metadata": {},
     "output_type": "execute_result"
    },
    {
     "data": {
      "image/png": "[encoded data removed]",
      "text/plain": [
       "<Figure size 640x480 with 1 Axes>"
      ]
     },
     "metadata": {},
     "output_type": "display_data"
    }
   ],
   "source": [
    "# temp plot\n",
    "ax = plt.gca() \n",
    "temp_hum_merged.plot( x = 'date_time' , y = 'temp_C', ax = ax)"
   ]
  },
  {
   "cell_type": "code",
   "execution_count": 64,
   "id": "edc40464",
   "metadata": {},
   "outputs": [
    {
     "data": {
      "text/plain": [
       "<AxesSubplot: xlabel='date_time'>"
      ]
     },
     "execution_count": 64,
     "metadata": {},
     "output_type": "execute_result"
    },
    {
     "data": {
      "image/png": "[encoded data removed]",
      "text/plain": [
       "<Figure size 640x480 with 1 Axes>"
      ]
     },
     "metadata": {},
     "output_type": "display_data"
    }
   ],
   "source": [
    "# hum plot\n",
    "ax = plt.gca() \n",
    "temp_hum_merged.plot( x = 'date_time' , y = 'hum_RH' , ax = ax )"
   ]
  },
  {
   "cell_type": "code",
   "execution_count": 67,
   "id": "672e443b",
   "metadata": {},
   "outputs": [],
   "source": [
    "# pickle object to file\n",
    "temp_hum_merged[['date_time', 'temp_C', 'hum_RH']].to_pickle('data/project_data_merged_processed.pkl')"
   ]
  },
  {
   "cell_type": "markdown",
   "metadata": {},
   "source": [
    "# Analyze data"
   ]
  },
  {
   "cell_type": "code",
   "execution_count": 69,
   "metadata": {},
   "outputs": [
    {
     "data": {
      "text/html": [
       "<div>\n",
       "<style scoped>\n",
       "    .dataframe tbody tr th:only-of-type {\n",
       "        vertical-align: middle;\n",
       "    }\n",
       "\n",
       "    .dataframe tbody tr th {\n",
       "        vertical-align: top;\n",
       "    }\n",
       "\n",
       "    .dataframe thead th {\n",
       "        text-align: right;\n",
       "    }\n",
       "</style>\n",
       "<table border=\"1\" class=\"dataframe\">\n",
       "  <thead>\n",
       "    <tr style=\"text-align: right;\">\n",
       "      <th></th>\n",
       "      <th>date_time</th>\n",
       "      <th>temp_C</th>\n",
       "      <th>hum_RH</th>\n",
       "    </tr>\n",
       "  </thead>\n",
       "  <tbody>\n",
       "    <tr>\n",
       "      <th>0</th>\n",
       "      <td>2014-03-14 17:31:00</td>\n",
       "      <td>17.16219</td>\n",
       "      <td>23.475</td>\n",
       "    </tr>\n",
       "    <tr>\n",
       "      <th>1</th>\n",
       "      <td>2014-03-14 18:31:00</td>\n",
       "      <td>16.50121</td>\n",
       "      <td>22.769</td>\n",
       "    </tr>\n",
       "    <tr>\n",
       "      <th>2</th>\n",
       "      <td>2014-03-14 19:31:00</td>\n",
       "      <td>15.84665</td>\n",
       "      <td>25.357</td>\n",
       "    </tr>\n",
       "    <tr>\n",
       "      <th>3</th>\n",
       "      <td>2014-03-14 20:31:00</td>\n",
       "      <td>15.60761</td>\n",
       "      <td>25.122</td>\n",
       "    </tr>\n",
       "    <tr>\n",
       "      <th>4</th>\n",
       "      <td>2014-03-14 21:31:00</td>\n",
       "      <td>15.47507</td>\n",
       "      <td>25.827</td>\n",
       "    </tr>\n",
       "  </tbody>\n",
       "</table>\n",
       "</div>"
      ],
      "text/plain": [
       "            date_time    temp_C  hum_RH\n",
       "0 2014-03-14 17:31:00  17.16219  23.475\n",
       "1 2014-03-14 18:31:00  16.50121  22.769\n",
       "2 2014-03-14 19:31:00  15.84665  25.357\n",
       "3 2014-03-14 20:31:00  15.60761  25.122\n",
       "4 2014-03-14 21:31:00  15.47507  25.827"
      ]
     },
     "metadata": {},
     "output_type": "display_data"
    },
    {
     "name": "stdout",
     "output_type": "stream",
     "text": [
      "(43411, 3)\n"
     ]
    }
   ],
   "source": [
    "temp_hum_merged = pd.read_pickle('data/project_data_merged_processed.pkl')\n",
    "display(temp_hum_merged.head())\n",
    "print(temp_hum_merged.shape)"
   ]
  },
  {
   "cell_type": "code",
   "execution_count": 74,
   "metadata": {},
   "outputs": [
    {
     "data": {
      "text/html": [
       "<div>\n",
       "<style scoped>\n",
       "    .dataframe tbody tr th:only-of-type {\n",
       "        vertical-align: middle;\n",
       "    }\n",
       "\n",
       "    .dataframe tbody tr th {\n",
       "        vertical-align: top;\n",
       "    }\n",
       "\n",
       "    .dataframe thead th {\n",
       "        text-align: right;\n",
       "    }\n",
       "</style>\n",
       "<table border=\"1\" class=\"dataframe\">\n",
       "  <thead>\n",
       "    <tr style=\"text-align: right;\">\n",
       "      <th></th>\n",
       "      <th>date_time</th>\n",
       "      <th>temp_C</th>\n",
       "      <th>hum_RH</th>\n",
       "    </tr>\n",
       "  </thead>\n",
       "  <tbody>\n",
       "    <tr>\n",
       "      <th>count</th>\n",
       "      <td>43411</td>\n",
       "      <td>43411.000000</td>\n",
       "      <td>43411.000000</td>\n",
       "    </tr>\n",
       "    <tr>\n",
       "      <th>mean</th>\n",
       "      <td>2018-05-30 09:41:01.694501632</td>\n",
       "      <td>16.138753</td>\n",
       "      <td>72.003038</td>\n",
       "    </tr>\n",
       "    <tr>\n",
       "      <th>min</th>\n",
       "      <td>2014-03-14 17:31:00</td>\n",
       "      <td>-12.285000</td>\n",
       "      <td>0.000000</td>\n",
       "    </tr>\n",
       "    <tr>\n",
       "      <th>25%</th>\n",
       "      <td>2016-04-03 12:31:00</td>\n",
       "      <td>9.918660</td>\n",
       "      <td>57.100000</td>\n",
       "    </tr>\n",
       "    <tr>\n",
       "      <th>50%</th>\n",
       "      <td>2019-04-30 17:19:00</td>\n",
       "      <td>17.402000</td>\n",
       "      <td>78.700000</td>\n",
       "    </tr>\n",
       "    <tr>\n",
       "      <th>75%</th>\n",
       "      <td>2020-03-20 03:39:00</td>\n",
       "      <td>22.651000</td>\n",
       "      <td>95.800000</td>\n",
       "    </tr>\n",
       "    <tr>\n",
       "      <th>max</th>\n",
       "      <td>2021-08-13 07:44:00</td>\n",
       "      <td>42.184000</td>\n",
       "      <td>100.000000</td>\n",
       "    </tr>\n",
       "    <tr>\n",
       "      <th>std</th>\n",
       "      <td>NaN</td>\n",
       "      <td>8.613110</td>\n",
       "      <td>27.666212</td>\n",
       "    </tr>\n",
       "  </tbody>\n",
       "</table>\n",
       "</div>"
      ],
      "text/plain": [
       "                           date_time        temp_C        hum_RH\n",
       "count                          43411  43411.000000  43411.000000\n",
       "mean   2018-05-30 09:41:01.694501632     16.138753     72.003038\n",
       "min              2014-03-14 17:31:00    -12.285000      0.000000\n",
       "25%              2016-04-03 12:31:00      9.918660     57.100000\n",
       "50%              2019-04-30 17:19:00     17.402000     78.700000\n",
       "75%              2020-03-20 03:39:00     22.651000     95.800000\n",
       "max              2021-08-13 07:44:00     42.184000    100.000000\n",
       "std                              NaN      8.613110     27.666212"
      ]
     },
     "execution_count": 74,
     "metadata": {},
     "output_type": "execute_result"
    }
   ],
   "source": [
    "temp_hum_merged.describe(datetime_is_numeric=True)"
   ]
  },
  {
   "cell_type": "code",
   "execution_count": 85,
   "metadata": {},
   "outputs": [
    {
     "data": {
      "text/html": [
       "<div>\n",
       "<style scoped>\n",
       "    .dataframe tbody tr th:only-of-type {\n",
       "        vertical-align: middle;\n",
       "    }\n",
       "\n",
       "    .dataframe tbody tr th {\n",
       "        vertical-align: top;\n",
       "    }\n",
       "\n",
       "    .dataframe thead th {\n",
       "        text-align: right;\n",
       "    }\n",
       "</style>\n",
       "<table border=\"1\" class=\"dataframe\">\n",
       "  <thead>\n",
       "    <tr style=\"text-align: right;\">\n",
       "      <th></th>\n",
       "      <th>date_time</th>\n",
       "      <th>temp_C</th>\n",
       "      <th>hum_RH</th>\n",
       "    </tr>\n",
       "  </thead>\n",
       "  <tbody>\n",
       "    <tr>\n",
       "      <th>count</th>\n",
       "      <td>2337</td>\n",
       "      <td>2337.000000</td>\n",
       "      <td>2337.0</td>\n",
       "    </tr>\n",
       "    <tr>\n",
       "      <th>mean</th>\n",
       "      <td>2017-07-26 20:15:17.894736896</td>\n",
       "      <td>14.566023</td>\n",
       "      <td>0.0</td>\n",
       "    </tr>\n",
       "    <tr>\n",
       "      <th>min</th>\n",
       "      <td>2014-06-04 23:31:00</td>\n",
       "      <td>-3.434000</td>\n",
       "      <td>0.0</td>\n",
       "    </tr>\n",
       "    <tr>\n",
       "      <th>25%</th>\n",
       "      <td>2016-01-16 04:01:00</td>\n",
       "      <td>9.314000</td>\n",
       "      <td>0.0</td>\n",
       "    </tr>\n",
       "    <tr>\n",
       "      <th>50%</th>\n",
       "      <td>2016-08-03 08:01:00</td>\n",
       "      <td>15.674000</td>\n",
       "      <td>0.0</td>\n",
       "    </tr>\n",
       "    <tr>\n",
       "      <th>75%</th>\n",
       "      <td>2019-08-26 04:49:00</td>\n",
       "      <td>20.428000</td>\n",
       "      <td>0.0</td>\n",
       "    </tr>\n",
       "    <tr>\n",
       "      <th>max</th>\n",
       "      <td>2021-08-01 07:44:00</td>\n",
       "      <td>30.670000</td>\n",
       "      <td>0.0</td>\n",
       "    </tr>\n",
       "    <tr>\n",
       "      <th>std</th>\n",
       "      <td>NaN</td>\n",
       "      <td>7.069198</td>\n",
       "      <td>0.0</td>\n",
       "    </tr>\n",
       "  </tbody>\n",
       "</table>\n",
       "</div>"
      ],
      "text/plain": [
       "                           date_time       temp_C  hum_RH\n",
       "count                           2337  2337.000000  2337.0\n",
       "mean   2017-07-26 20:15:17.894736896    14.566023     0.0\n",
       "min              2014-06-04 23:31:00    -3.434000     0.0\n",
       "25%              2016-01-16 04:01:00     9.314000     0.0\n",
       "50%              2016-08-03 08:01:00    15.674000     0.0\n",
       "75%              2019-08-26 04:49:00    20.428000     0.0\n",
       "max              2021-08-01 07:44:00    30.670000     0.0\n",
       "std                              NaN     7.069198     0.0"
      ]
     },
     "metadata": {},
     "output_type": "display_data"
    },
    {
     "data": {
      "text/plain": [
       "(2337, 3)"
      ]
     },
     "execution_count": 85,
     "metadata": {},
     "output_type": "execute_result"
    }
   ],
   "source": [
    "# when relative humidity is 0%\n",
    "display(temp_hum_merged[temp_hum_merged.hum_RH == 0].describe(datetime_is_numeric=True))\n",
    "temp_hum_merged[temp_hum_merged.hum_RH == 0].shape \n",
    "\n",
    "# A RH of 0% is impossible since there is always some water vapor in the air. Also, -3 degrees Celcius in \n",
    "# June is very unlikely. These seem to be errors and cast doubt on the accuracy of the data. "
   ]
  },
  {
   "cell_type": "code",
   "execution_count": 96,
   "metadata": {},
   "outputs": [
    {
     "data": {
      "text/html": [
       "<div>\n",
       "<style scoped>\n",
       "    .dataframe tbody tr th:only-of-type {\n",
       "        vertical-align: middle;\n",
       "    }\n",
       "\n",
       "    .dataframe tbody tr th {\n",
       "        vertical-align: top;\n",
       "    }\n",
       "\n",
       "    .dataframe thead th {\n",
       "        text-align: right;\n",
       "    }\n",
       "</style>\n",
       "<table border=\"1\" class=\"dataframe\">\n",
       "  <thead>\n",
       "    <tr style=\"text-align: right;\">\n",
       "      <th></th>\n",
       "      <th>date_time</th>\n",
       "      <th>temp_C</th>\n",
       "      <th>hum_RH</th>\n",
       "    </tr>\n",
       "  </thead>\n",
       "  <tbody>\n",
       "    <tr>\n",
       "      <th>157</th>\n",
       "      <td>2014-03-21 06:31:00</td>\n",
       "      <td>-0.03983</td>\n",
       "      <td>95.821</td>\n",
       "    </tr>\n",
       "    <tr>\n",
       "      <th>158</th>\n",
       "      <td>2014-03-21 07:31:00</td>\n",
       "      <td>-0.55280</td>\n",
       "      <td>96.399</td>\n",
       "    </tr>\n",
       "    <tr>\n",
       "      <th>227</th>\n",
       "      <td>2014-03-24 04:31:00</td>\n",
       "      <td>-0.37679</td>\n",
       "      <td>76.290</td>\n",
       "    </tr>\n",
       "    <tr>\n",
       "      <th>228</th>\n",
       "      <td>2014-03-24 05:31:00</td>\n",
       "      <td>-1.06874</td>\n",
       "      <td>80.185</td>\n",
       "    </tr>\n",
       "    <tr>\n",
       "      <th>229</th>\n",
       "      <td>2014-03-24 06:31:00</td>\n",
       "      <td>-1.56193</td>\n",
       "      <td>80.741</td>\n",
       "    </tr>\n",
       "  </tbody>\n",
       "</table>\n",
       "</div>"
      ],
      "text/plain": [
       "              date_time   temp_C  hum_RH\n",
       "157 2014-03-21 06:31:00 -0.03983  95.821\n",
       "158 2014-03-21 07:31:00 -0.55280  96.399\n",
       "227 2014-03-24 04:31:00 -0.37679  76.290\n",
       "228 2014-03-24 05:31:00 -1.06874  80.185\n",
       "229 2014-03-24 06:31:00 -1.56193  80.741"
      ]
     },
     "metadata": {},
     "output_type": "display_data"
    },
    {
     "data": {
      "text/html": [
       "<div>\n",
       "<style scoped>\n",
       "    .dataframe tbody tr th:only-of-type {\n",
       "        vertical-align: middle;\n",
       "    }\n",
       "\n",
       "    .dataframe tbody tr th {\n",
       "        vertical-align: top;\n",
       "    }\n",
       "\n",
       "    .dataframe thead th {\n",
       "        text-align: right;\n",
       "    }\n",
       "</style>\n",
       "<table border=\"1\" class=\"dataframe\">\n",
       "  <thead>\n",
       "    <tr style=\"text-align: right;\">\n",
       "      <th></th>\n",
       "      <th>date_time</th>\n",
       "      <th>temp_C</th>\n",
       "      <th>hum_RH</th>\n",
       "    </tr>\n",
       "  </thead>\n",
       "  <tbody>\n",
       "    <tr>\n",
       "      <th>14323</th>\n",
       "      <td>2021-04-02 07:44:00</td>\n",
       "      <td>-1.47569</td>\n",
       "      <td>74.338</td>\n",
       "    </tr>\n",
       "    <tr>\n",
       "      <th>14324</th>\n",
       "      <td>2021-04-02 08:44:00</td>\n",
       "      <td>-0.79230</td>\n",
       "      <td>74.906</td>\n",
       "    </tr>\n",
       "    <tr>\n",
       "      <th>14345</th>\n",
       "      <td>2021-04-03 05:44:00</td>\n",
       "      <td>-0.16427</td>\n",
       "      <td>90.886</td>\n",
       "    </tr>\n",
       "    <tr>\n",
       "      <th>14346</th>\n",
       "      <td>2021-04-03 06:44:00</td>\n",
       "      <td>-0.71235</td>\n",
       "      <td>90.298</td>\n",
       "    </tr>\n",
       "    <tr>\n",
       "      <th>14347</th>\n",
       "      <td>2021-04-03 07:44:00</td>\n",
       "      <td>-0.79060</td>\n",
       "      <td>86.251</td>\n",
       "    </tr>\n",
       "  </tbody>\n",
       "</table>\n",
       "</div>"
      ],
      "text/plain": [
       "                date_time   temp_C  hum_RH\n",
       "14323 2021-04-02 07:44:00 -1.47569  74.338\n",
       "14324 2021-04-02 08:44:00 -0.79230  74.906\n",
       "14345 2021-04-03 05:44:00 -0.16427  90.886\n",
       "14346 2021-04-03 06:44:00 -0.71235  90.298\n",
       "14347 2021-04-03 07:44:00 -0.79060  86.251"
      ]
     },
     "execution_count": 96,
     "metadata": {},
     "output_type": "execute_result"
    }
   ],
   "source": [
    "# when temp is negative and in spring/summer months\n",
    "display(temp_hum_merged[(temp_hum_merged.temp_C < 0) & (temp_hum_merged.date_time.dt.month.isin([3,4,5,6,7,8]))].head())\n",
    "temp_hum_merged[(temp_hum_merged.temp_C < 0) & (temp_hum_merged.date_time.dt.month.isin([3,4,5,6,7,8]))].tail()"
   ]
  },
  {
   "cell_type": "code",
   "execution_count": null,
   "metadata": {},
   "outputs": [],
   "source": []
  }
 ],
 "metadata": {
  "kernelspec": {
   "display_name": "Python 3",
   "language": "python",
   "name": "python3"
  },
  "language_info": {
   "codemirror_mode": {
    "name": "ipython",
    "version": 3
   },
   "file_extension": ".py",
   "mimetype": "text/x-python",
   "name": "python",
   "nbconvert_exporter": "python",
   "pygments_lexer": "ipython3",
   "version": "3.8.10"
  }
 },
 "nbformat": 4,
 "nbformat_minor": 5
}
